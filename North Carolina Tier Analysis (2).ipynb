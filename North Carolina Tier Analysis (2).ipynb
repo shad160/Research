{
 "cells": [
  {
   "cell_type": "markdown",
   "metadata": {},
   "source": [
    "## Housekeeping\n",
    "\n",
    "Import libraries"
   ]
  },
  {
   "cell_type": "code",
   "execution_count": 1,
   "metadata": {},
   "outputs": [
    {
     "data": {
      "text/plain": [
       "'C:\\\\Users\\\\si2320\\\\Downloads'"
      ]
     },
     "execution_count": 1,
     "metadata": {},
     "output_type": "execute_result"
    }
   ],
   "source": [
    "import numpy as np\n",
    "import pandas as pd\n",
    "import seaborn as sns\n",
    "import scipy as sp\n",
    "import folium\n",
    "%pwd"
   ]
  },
  {
   "cell_type": "markdown",
   "metadata": {},
   "source": [
    "## Macro-level Analysis\n",
    "\n",
    "Let's look at the population distribution in North Carolina and establish some initial descriptive statistics."
   ]
  },
  {
   "cell_type": "code",
   "execution_count": 2,
   "metadata": {},
   "outputs": [
    {
     "name": "stdout",
     "output_type": "stream",
     "text": [
      "<class 'pandas.core.frame.DataFrame'>\n",
      "RangeIndex: 100 entries, 0 to 99\n",
      "Data columns (total 16 columns):\n",
      " #   Column                                            Non-Null Count  Dtype  \n",
      "---  ------                                            --------------  -----  \n",
      " 0   COUNTY                                            100 non-null    object \n",
      " 1   Adjusted Property Tax Base Per Capita FY 2015-16  100 non-null    int64  \n",
      " 2   Population Growth July 2011-July 2014             100 non-null    float64\n",
      " 3   Median HouseHold Income 2013                      100 non-null    int64  \n",
      " 4   Unemployment 12 mth avg                           100 non-null    float64\n",
      " 5   County Rank Sum                                   100 non-null    int64  \n",
      " 6   Economic Distress Rank                            100 non-null    int64  \n",
      " 7   Population Less Prison July 2014                  100 non-null    int64  \n",
      " 8   Poverty Rate 5-year                               100 non-null    float64\n",
      " 9   2014 tier                                         100 non-null    int64  \n",
      " 10  2015 tier                                         100 non-null    int64  \n",
      " 11  Population and Poverty Adjustment                 100 non-null    int64  \n",
      " 12  Population Adjustment                             100 non-null    int64  \n",
      " 13  Tier 1 2 consecutive years adjustment             100 non-null    int64  \n",
      " 14  Adjusted Rank                                     100 non-null    int64  \n",
      " 15  Final 2016 Tier                                   100 non-null    int64  \n",
      "dtypes: float64(3), int64(12), object(1)\n",
      "memory usage: 12.6+ KB\n"
     ]
    }
   ],
   "source": [
    "tiers = pd.read_excel('NC Development Tier Rankings 2016.xls')\n",
    "tiers.head()\n",
    "tiers.info()"
   ]
  },
  {
   "cell_type": "code",
   "execution_count": 3,
   "metadata": {},
   "outputs": [],
   "source": [
    "tier_pop = tiers[['COUNTY','Median HouseHold Income 2013', 'Population Less Prison July 2014','Poverty Rate 5-year','Final 2016 Tier']]"
   ]
  },
  {
   "cell_type": "code",
   "execution_count": 75,
   "metadata": {},
   "outputs": [],
   "source": [
    "tier_pop\n",
    "#tier_pop.to_excel(\"NC County Tiers Important Columns Only.xls\")"
   ]
  },
  {
   "cell_type": "code",
   "execution_count": 5,
   "metadata": {},
   "outputs": [
    {
     "data": {
      "text/html": [
       "<div>\n",
       "<style scoped>\n",
       "    .dataframe tbody tr th:only-of-type {\n",
       "        vertical-align: middle;\n",
       "    }\n",
       "\n",
       "    .dataframe tbody tr th {\n",
       "        vertical-align: top;\n",
       "    }\n",
       "\n",
       "    .dataframe thead th {\n",
       "        text-align: right;\n",
       "    }\n",
       "</style>\n",
       "<table border=\"1\" class=\"dataframe\">\n",
       "  <thead>\n",
       "    <tr style=\"text-align: right;\">\n",
       "      <th></th>\n",
       "      <th>COUNTY</th>\n",
       "      <th>Median HouseHold Income 2013</th>\n",
       "      <th>Population Less Prison July 2014</th>\n",
       "      <th>Poverty Rate 5-year</th>\n",
       "      <th>Final 2016 Tier</th>\n",
       "    </tr>\n",
       "  </thead>\n",
       "  <tbody>\n",
       "    <tr>\n",
       "      <th>88</th>\n",
       "      <td>TYRRELL</td>\n",
       "      <td>32642</td>\n",
       "      <td>3645</td>\n",
       "      <td>0.208</td>\n",
       "      <td>1</td>\n",
       "    </tr>\n",
       "    <tr>\n",
       "      <th>47</th>\n",
       "      <td>HYDE</td>\n",
       "      <td>36681</td>\n",
       "      <td>5077</td>\n",
       "      <td>0.256</td>\n",
       "      <td>1</td>\n",
       "    </tr>\n",
       "    <tr>\n",
       "      <th>37</th>\n",
       "      <td>GRAHAM</td>\n",
       "      <td>33553</td>\n",
       "      <td>8829</td>\n",
       "      <td>0.211</td>\n",
       "      <td>1</td>\n",
       "    </tr>\n",
       "    <tr>\n",
       "      <th>14</th>\n",
       "      <td>CAMDEN</td>\n",
       "      <td>60537</td>\n",
       "      <td>10251</td>\n",
       "      <td>0.060</td>\n",
       "      <td>1</td>\n",
       "    </tr>\n",
       "    <tr>\n",
       "      <th>51</th>\n",
       "      <td>JONES</td>\n",
       "      <td>39602</td>\n",
       "      <td>10468</td>\n",
       "      <td>0.167</td>\n",
       "      <td>1</td>\n",
       "    </tr>\n",
       "    <tr>\n",
       "      <th>...</th>\n",
       "      <td>...</td>\n",
       "      <td>...</td>\n",
       "      <td>...</td>\n",
       "      <td>...</td>\n",
       "      <td>...</td>\n",
       "    </tr>\n",
       "    <tr>\n",
       "      <th>25</th>\n",
       "      <td>CUMBERLAND</td>\n",
       "      <td>44038</td>\n",
       "      <td>329403</td>\n",
       "      <td>0.170</td>\n",
       "      <td>2</td>\n",
       "    </tr>\n",
       "    <tr>\n",
       "      <th>33</th>\n",
       "      <td>FORSYTH</td>\n",
       "      <td>46163</td>\n",
       "      <td>364005</td>\n",
       "      <td>0.186</td>\n",
       "      <td>3</td>\n",
       "    </tr>\n",
       "    <tr>\n",
       "      <th>40</th>\n",
       "      <td>GUILFORD</td>\n",
       "      <td>46093</td>\n",
       "      <td>512273</td>\n",
       "      <td>0.181</td>\n",
       "      <td>3</td>\n",
       "    </tr>\n",
       "    <tr>\n",
       "      <th>91</th>\n",
       "      <td>WAKE</td>\n",
       "      <td>65433</td>\n",
       "      <td>982473</td>\n",
       "      <td>0.110</td>\n",
       "      <td>3</td>\n",
       "    </tr>\n",
       "    <tr>\n",
       "      <th>59</th>\n",
       "      <td>MECKLENBURG</td>\n",
       "      <td>54657</td>\n",
       "      <td>1013199</td>\n",
       "      <td>0.154</td>\n",
       "      <td>3</td>\n",
       "    </tr>\n",
       "  </tbody>\n",
       "</table>\n",
       "<p>100 rows × 5 columns</p>\n",
       "</div>"
      ],
      "text/plain": [
       "         COUNTY  Median HouseHold Income 2013  \\\n",
       "88      TYRRELL                         32642   \n",
       "47         HYDE                         36681   \n",
       "37       GRAHAM                         33553   \n",
       "14       CAMDEN                         60537   \n",
       "51        JONES                         39602   \n",
       "..          ...                           ...   \n",
       "25   CUMBERLAND                         44038   \n",
       "33      FORSYTH                         46163   \n",
       "40     GUILFORD                         46093   \n",
       "91         WAKE                         65433   \n",
       "59  MECKLENBURG                         54657   \n",
       "\n",
       "    Population Less Prison July 2014  Poverty Rate 5-year  Final 2016 Tier  \n",
       "88                              3645                0.208                1  \n",
       "47                              5077                0.256                1  \n",
       "37                              8829                0.211                1  \n",
       "14                             10251                0.060                1  \n",
       "51                             10468                0.167                1  \n",
       "..                               ...                  ...              ...  \n",
       "25                            329403                0.170                2  \n",
       "33                            364005                0.186                3  \n",
       "40                            512273                0.181                3  \n",
       "91                            982473                0.110                3  \n",
       "59                           1013199                0.154                3  \n",
       "\n",
       "[100 rows x 5 columns]"
      ]
     },
     "execution_count": 5,
     "metadata": {},
     "output_type": "execute_result"
    }
   ],
   "source": [
    "tier_pop.sort_values('Population Less Prison July 2014')"
   ]
  },
  {
   "cell_type": "code",
   "execution_count": 6,
   "metadata": {},
   "outputs": [
    {
     "name": "stdout",
     "output_type": "stream",
     "text": [
      "41649.33\n",
      "7488.6385919671675\n"
     ]
    }
   ],
   "source": [
    "print(np.mean(tier_pop['Median HouseHold Income 2013']))\n",
    "print(np.std(tier_pop['Median HouseHold Income 2013']))"
   ]
  },
  {
   "cell_type": "markdown",
   "metadata": {},
   "source": [
    "Mean income in North Carolina was \\\\$41649.33,  with a Standard Deviation of \\\\$7488.64"
   ]
  },
  {
   "cell_type": "code",
   "execution_count": 7,
   "metadata": {},
   "outputs": [
    {
     "name": "stdout",
     "output_type": "stream",
     "text": [
      "99093.59\n",
      "153343.09877663848\n"
     ]
    }
   ],
   "source": [
    "print(np.mean(tier_pop['Population Less Prison July 2014']))\n",
    "print(np.std(tier_pop['Population Less Prison July 2014']))"
   ]
  },
  {
   "cell_type": "markdown",
   "metadata": {},
   "source": [
    "We see that the standard deviation of the population is much higher than the mean population. This indicates that there's some skewing of the population distribution. Let's plot to see this."
   ]
  },
  {
   "cell_type": "code",
   "execution_count": 72,
   "metadata": {},
   "outputs": [
    {
     "data": {
      "image/png": "[encoded data removed]",
      "text/plain": [
       "<Figure size 432x288 with 1 Axes>"
      ]
     },
     "metadata": {
      "needs_background": "light"
     },
     "output_type": "display_data"
    }
   ],
   "source": [
    "#Standard Deviation is MUCH greater than the mean. Plot population\n",
    "pop_plot =sns.distplot(tier_pop['Population Less Prison July 2014'], hist= True)\n",
    "pop_plot.set_title(\"Population Density Distribution of North Carolina Counties\")\n",
    "#pop_plot.figure.savefig('Population Density Distribution of North Carolina Counties.png', dpi=300)"
   ]
  },
  {
   "cell_type": "markdown",
   "metadata": {},
   "source": [
    "The frequency of counties seems to trail off after 200,000. Let's zoom in."
   ]
  },
  {
   "cell_type": "code",
   "execution_count": 71,
   "metadata": {},
   "outputs": [
    {
     "data": {
      "image/png": "[encoded data removed]",
      "text/plain": [
       "<Figure size 432x288 with 1 Axes>"
      ]
     },
     "metadata": {
      "needs_background": "light"
     },
     "output_type": "display_data"
    }
   ],
   "source": [
    "tier_pop_200k = tier_pop.loc[tier_pop['Population Less Prison July 2014'] < 200000]\n",
    "zoom_plot= sns.distplot(tier_pop_200k['Population Less Prison July 2014'], hist= True)\n",
    "zoom_plot.set_title(\"Population Density Distribution of NC Counties with <200k Residents\")\n",
    "#zoom_plot.figure.savefig('Population Density Distribution Under 200k Residents.png', dpi=300)"
   ]
  },
  {
   "cell_type": "code",
   "execution_count": 66,
   "metadata": {},
   "outputs": [
    {
     "data": {
      "image/png": "[encoded data removed]",
      "text/plain": [
       "<Figure size 432x288 with 1 Axes>"
      ]
     },
     "metadata": {
      "needs_background": "light"
     },
     "output_type": "display_data"
    }
   ],
   "source": [
    "tier_pop_sort = tier_pop.sort_values(by=['Population Less Prison July 2014'])\n",
    "tier_pop_plot_2 = sns.barplot(x='COUNTY',y='Population Less Prison July 2014',data=tier_pop_sort)\n",
    "tier_pop_plot_2.axhline(50000, ls='--')\n",
    "tier_pop_plot_2.set_xticklabels([])\n",
    "tier_pop_plot_2.set_title(\"Population Distribution of NC Counties\")\n",
    "#tier_pop_plot_2.figure.savefig('Population Distribution of NC Counties.png', dpi=300)"
   ]
  },
  {
   "cell_type": "code",
   "execution_count": 10,
   "metadata": {},
   "outputs": [
    {
     "name": "stdout",
     "output_type": "stream",
     "text": [
      "90\n",
      "46\n",
      "3\n"
     ]
    }
   ],
   "source": [
    "print(len(tier_pop_200k['Population Less Prison July 2014']))\n",
    "print(len(tier_pop.loc[tier_pop['Population Less Prison July 2014'] < 50000]))\n",
    "print(len(tier_pop.loc[tier_pop['Population Less Prison July 2014'] < 10000]))"
   ]
  },
  {
   "cell_type": "markdown",
   "metadata": {},
   "source": [
    "90% of North Carolina's counties are below 200k in population, and 46% of North Carolina's counties are below 50k.\n",
    "Using USDA Definitions (https://www.ers.usda.gov/topics/rural-economy-population/rural-classifications/what-is-rural/), this means that 46% of NC counties can be classified as Non-Metro. Non-Metro can be further drilled into Non-Micro, or counties with less than 10000 people. There are 3 such counties in North Carolina."
   ]
  },
  {
   "cell_type": "code",
   "execution_count": 11,
   "metadata": {},
   "outputs": [
    {
     "data": {
      "text/html": [
       "<div>\n",
       "<style scoped>\n",
       "    .dataframe tbody tr th:only-of-type {\n",
       "        vertical-align: middle;\n",
       "    }\n",
       "\n",
       "    .dataframe tbody tr th {\n",
       "        vertical-align: top;\n",
       "    }\n",
       "\n",
       "    .dataframe thead th {\n",
       "        text-align: right;\n",
       "    }\n",
       "</style>\n",
       "<table border=\"1\" class=\"dataframe\">\n",
       "  <thead>\n",
       "    <tr style=\"text-align: right;\">\n",
       "      <th></th>\n",
       "      <th>COUNTY</th>\n",
       "      <th>Median HouseHold Income 2013</th>\n",
       "      <th>Population Less Prison July 2014</th>\n",
       "      <th>Poverty Rate 5-year</th>\n",
       "      <th>Final 2016 Tier</th>\n",
       "    </tr>\n",
       "  </thead>\n",
       "  <tbody>\n",
       "    <tr>\n",
       "      <th>37</th>\n",
       "      <td>GRAHAM</td>\n",
       "      <td>33553</td>\n",
       "      <td>8829</td>\n",
       "      <td>0.211</td>\n",
       "      <td>1</td>\n",
       "    </tr>\n",
       "    <tr>\n",
       "      <th>47</th>\n",
       "      <td>HYDE</td>\n",
       "      <td>36681</td>\n",
       "      <td>5077</td>\n",
       "      <td>0.256</td>\n",
       "      <td>1</td>\n",
       "    </tr>\n",
       "    <tr>\n",
       "      <th>88</th>\n",
       "      <td>TYRRELL</td>\n",
       "      <td>32642</td>\n",
       "      <td>3645</td>\n",
       "      <td>0.208</td>\n",
       "      <td>1</td>\n",
       "    </tr>\n",
       "  </tbody>\n",
       "</table>\n",
       "</div>"
      ],
      "text/plain": [
       "     COUNTY  Median HouseHold Income 2013  Population Less Prison July 2014  \\\n",
       "37   GRAHAM                         33553                              8829   \n",
       "47     HYDE                         36681                              5077   \n",
       "88  TYRRELL                         32642                              3645   \n",
       "\n",
       "    Poverty Rate 5-year  Final 2016 Tier  \n",
       "37                0.211                1  \n",
       "47                0.256                1  \n",
       "88                0.208                1  "
      ]
     },
     "execution_count": 11,
     "metadata": {},
     "output_type": "execute_result"
    }
   ],
   "source": [
    "most_rural = tier_pop.loc[tier_pop['Population Less Prison July 2014'] < 10000]\n",
    "most_rural"
   ]
  },
  {
   "cell_type": "code",
   "execution_count": 12,
   "metadata": {},
   "outputs": [
    {
     "name": "stdout",
     "output_type": "stream",
     "text": [
      "0.17711539162119366\n"
     ]
    }
   ],
   "source": [
    "Most_rural_sum = np.sum(most_rural['Population Less Prison July 2014'])\n",
    "Total_sum = np.sum(tier_pop['Population Less Prison July 2014'])\n",
    "print((Most_rural_sum/Total_sum)*100)\n"
   ]
  },
  {
   "cell_type": "code",
   "execution_count": 13,
   "metadata": {},
   "outputs": [
    {
     "name": "stdout",
     "output_type": "stream",
     "text": [
      "11.597571548270679\n"
     ]
    }
   ],
   "source": [
    "kind_of_rural = tier_pop.loc[tier_pop['Population Less Prison July 2014'] < 50000]\n",
    "kind_of_rural_sum = np.sum(kind_of_rural['Population Less Prison July 2014'])\n",
    "print((kind_of_rural_sum/Total_sum)*100)"
   ]
  },
  {
   "cell_type": "markdown",
   "metadata": {},
   "source": [
    "North Carolina's most rural counties are .177% of the state's overall population. Expanding the definition to counties below 50k accounts for 11.598% of the state's population-- so while 46% of the state's counties meet some definition of rural, they only hold 11.598% of the total population."
   ]
  },
  {
   "cell_type": "code",
   "execution_count": 14,
   "metadata": {},
   "outputs": [
    {
     "name": "stdout",
     "output_type": "stream",
     "text": [
      "10.224667407851506\n",
      "9.914596897740813\n",
      "5.169587659504515\n",
      "25.308851965096835\n"
     ]
    }
   ],
   "source": [
    "Mecklenburg_County_Percent = ((1013199 / Total_sum) * 100)\n",
    "print(Mecklenburg_County_Percent)\n",
    "Wake_County_Percent = ((982473 / Total_sum) * 100)\n",
    "print(Wake_County_Percent)\n",
    "Guilford_County_Percent = ((512273 / Total_sum) * 100)\n",
    "print(Guilford_County_Percent)\n",
    "\n",
    "Three_biggest = Mecklenburg_County_Percent + Wake_County_Percent + Guilford_County_Percent\n",
    "print(Three_biggest)"
   ]
  },
  {
   "cell_type": "markdown",
   "metadata": {},
   "source": [
    "In contrast, NC's three biggest counties account for over 25% of the state's population. This is important when considering the Tier designations, especially as the UNC Board of Governors dictated that they want to increase rural population by increasing enrollment from Tier 1 and Tier 2 counties. Let's analyze Tier 1 a bit."
   ]
  },
  {
   "cell_type": "markdown",
   "metadata": {},
   "source": [
    "## Tier 1 Analysis"
   ]
  },
  {
   "cell_type": "code",
   "execution_count": 73,
   "metadata": {},
   "outputs": [],
   "source": [
    "tier_1 = tier_pop.loc[tier_pop['Final 2016 Tier'] == 1]\n",
    "tier_1.sort_values('Population Less Prison July 2014')\n",
    "#tier_1.to_excel('Tier 1 Counties.xls')"
   ]
  },
  {
   "cell_type": "code",
   "execution_count": 16,
   "metadata": {},
   "outputs": [
    {
     "data": {
      "text/plain": [
       "40"
      ]
     },
     "execution_count": 16,
     "metadata": {},
     "output_type": "execute_result"
    }
   ],
   "source": [
    "len(tier_1['Population Less Prison July 2014'])"
   ]
  },
  {
   "cell_type": "markdown",
   "metadata": {},
   "source": [
    "There are 8 Tier 1 counties where the population is >50,000, 20% of the counties in this tier."
   ]
  },
  {
   "cell_type": "code",
   "execution_count": 17,
   "metadata": {},
   "outputs": [
    {
     "name": "stdout",
     "output_type": "stream",
     "text": [
      "44.72243250440595\n"
     ]
    }
   ],
   "source": [
    "tier_1_sum = np.sum(tier_1['Population Less Prison July 2014'])\n",
    "#print(tier_1_sum)\n",
    "tier_1_over_50k = tier_1.loc[tier_1['Population Less Prison July 2014'] > 50000]\n",
    "tier_1_over_50k_sum = np.sum(tier_1_over_50k['Population Less Prison July 2014'])\n",
    "#print(tier_1_over_50k_sum)\n",
    "over_50k_percent = (tier_1_over_50k_sum / tier_1_sum) *100\n",
    "print(over_50k_percent)"
   ]
  },
  {
   "cell_type": "markdown",
   "metadata": {},
   "source": [
    "### 44.72% of Tier 1's population is not rural."
   ]
  },
  {
   "cell_type": "code",
   "execution_count": 62,
   "metadata": {},
   "outputs": [
    {
     "data": {
      "image/png": "[encoded data removed]",
      "text/plain": [
       "<Figure size 432x288 with 1 Axes>"
      ]
     },
     "metadata": {
      "needs_background": "light"
     },
     "output_type": "display_data"
    }
   ],
   "source": [
    "tier_1_plot =sns.distplot(tier_1['Population Less Prison July 2014'])\n",
    "tier_1_plot.set_title(\"Population Density Distribution of Tier 1 Counties\")\n",
    "#tier_1_plot.figure.savefig('Population Density Distribution of Tier 1 Counties.png', dpi=300)"
   ]
  },
  {
   "cell_type": "code",
   "execution_count": 63,
   "metadata": {},
   "outputs": [
    {
     "data": {
      "image/png": "[encoded data removed]",
      "text/plain": [
       "<Figure size 432x288 with 1 Axes>"
      ]
     },
     "metadata": {
      "needs_background": "light"
     },
     "output_type": "display_data"
    }
   ],
   "source": [
    "tier_1_sort = tier_1.sort_values(by=['Population Less Prison July 2014'])\n",
    "tier_1_plot_2 = sns.barplot(x='COUNTY',y='Population Less Prison July 2014',data=tier_1_sort)\n",
    "tier_1_plot_2.axhline(50000, ls='--')\n",
    "tier_1_plot_2.set_xticklabels(tier_1_plot_2.get_xticklabels(),rotation=90,  fontsize='small')\n",
    "tier_1_plot_2.set_title(\"Population Distribution of Tier 1 Counties\")\n",
    "#tier_1_plot_2.figure.savefig('Population Distribution of Tier 1 Counties.png', dpi=300)"
   ]
  },
  {
   "cell_type": "code",
   "execution_count": 129,
   "metadata": {},
   "outputs": [],
   "source": [
    "#tier_1.sort_values('Median HouseHold Income 2013')"
   ]
  },
  {
   "cell_type": "code",
   "execution_count": 131,
   "metadata": {},
   "outputs": [],
   "source": [
    "#first_std= np.mean(tier_pop['Median HouseHold Income 2013']) - np.std(tier_pop['Median HouseHold Income 2013'])\n",
    "#print(first_std)"
   ]
  },
  {
   "cell_type": "code",
   "execution_count": 130,
   "metadata": {},
   "outputs": [],
   "source": [
    "#below_std = tier_1.loc[tier_1['Median HouseHold Income 2013'] < first_std]\n",
    "#below_std.sort_values('Population Less Prison July 2014')"
   ]
  },
  {
   "cell_type": "code",
   "execution_count": 132,
   "metadata": {},
   "outputs": [],
   "source": [
    "#len(below_std)"
   ]
  },
  {
   "cell_type": "markdown",
   "metadata": {},
   "source": [
    "There are 15 Tier 1 counties where the Median HouseHold income is more than one standard deviation below the state's median household income. 11 of these counties have a population below 50,000."
   ]
  },
  {
   "cell_type": "markdown",
   "metadata": {},
   "source": [
    "## Tier 2 Analysis"
   ]
  },
  {
   "cell_type": "code",
   "execution_count": 74,
   "metadata": {},
   "outputs": [],
   "source": [
    "tier_2 = tier_pop.loc[tier_pop['Final 2016 Tier'] == 2]\n",
    "tier_2.sort_values('Population Less Prison July 2014')\n",
    "#tier_2.to_excel(\"Tier 2 Counties.xls\")"
   ]
  },
  {
   "cell_type": "code",
   "execution_count": 23,
   "metadata": {},
   "outputs": [
    {
     "name": "stdout",
     "output_type": "stream",
     "text": [
      "26\n",
      "40\n"
     ]
    }
   ],
   "source": [
    "tier_2_over_50k = tier_2.loc[tier_2['Population Less Prison July 2014'] > 50000]\n",
    "print(len(tier_2_over_50k[\"Population Less Prison July 2014\"]))\n",
    "print(len(tier_2['Population Less Prison July 2014']))"
   ]
  },
  {
   "cell_type": "markdown",
   "metadata": {},
   "source": [
    "26 counties in Tier 2 are not rural, 65% of this tier's counties."
   ]
  },
  {
   "cell_type": "code",
   "execution_count": 137,
   "metadata": {},
   "outputs": [
    {
     "name": "stdout",
     "output_type": "stream",
     "text": [
      "87.94232592476779\n"
     ]
    }
   ],
   "source": [
    "tier_2_sum = np.sum(tier_2['Population Less Prison July 2014'])\n",
    "#print(tier_2_sum)\n",
    "tier_2_over_50k = tier_2.loc[tier_2['Population Less Prison July 2014'] > 50000]\n",
    "tier_2_over_50k_sum = np.sum(tier_2_over_50k['Population Less Prison July 2014'])\n",
    "#print(tier_2_over_50k_sum)\n",
    "tier_2_over_50k_percent = (tier_2_over_50k_sum / tier_2_sum) *100\n",
    "print(tier_2_over_50k_percent)"
   ]
  },
  {
   "cell_type": "markdown",
   "metadata": {},
   "source": [
    "### 87.94 of Tier 2's population is not rural."
   ]
  },
  {
   "cell_type": "code",
   "execution_count": 64,
   "metadata": {},
   "outputs": [
    {
     "data": {
      "image/png": "[encoded data removed]",
      "text/plain": [
       "<Figure size 432x288 with 1 Axes>"
      ]
     },
     "metadata": {
      "needs_background": "light"
     },
     "output_type": "display_data"
    }
   ],
   "source": [
    "tier_2_plot =sns.distplot(tier_2['Population Less Prison July 2014'])\n",
    "tier_2_plot.set_title(\"Population Density Distribution of Tier 2 counties\")\n",
    "#tier_2_plot.figure.savefig('Population Density Distribution of Tier 2 counties.png', dpi=300)"
   ]
  },
  {
   "cell_type": "code",
   "execution_count": 34,
   "metadata": {},
   "outputs": [],
   "source": [
    "tier_2_sort = tier_2.sort_values(by=['Population Less Prison July 2014'])"
   ]
  },
  {
   "cell_type": "code",
   "execution_count": 65,
   "metadata": {},
   "outputs": [
    {
     "data": {
      "image/png": "[encoded data removed]",
      "text/plain": [
       "<Figure size 432x288 with 1 Axes>"
      ]
     },
     "metadata": {
      "needs_background": "light"
     },
     "output_type": "display_data"
    }
   ],
   "source": [
    "tier_2_plot_2 = sns.barplot(x='COUNTY',y='Population Less Prison July 2014',data=tier_2_sort)\n",
    "tier_2_plot_2.axhline(50000, ls='--')\n",
    "tier_2_plot_2.set_xticklabels(tier_2_plot_2.get_xticklabels(),rotation=90,  fontsize='small')\n",
    "tier_2_plot_2.set_title(\"Population Distribution of Tier 2 Counties\")\n",
    "#tier_2_plot_2.figure.savefig('Population Distribution of Tier 2 Counties.png', dpi=300)"
   ]
  },
  {
   "cell_type": "code",
   "execution_count": 138,
   "metadata": {},
   "outputs": [
    {
     "name": "stdout",
     "output_type": "stream",
     "text": [
      "75.75159311196661\n"
     ]
    }
   ],
   "source": [
    "tier1and2_sum = tier_1_sum + tier_2_sum\n",
    "tier1and2_over50k =tier_1_over_50k_sum + tier_2_over_50k_sum\n",
    "tier1and2_over50k_percent = (tier1and2_over50k / tier1and2_sum) *100\n",
    "print(tier1and2_over50k_percent)"
   ]
  },
  {
   "cell_type": "markdown",
   "metadata": {},
   "source": [
    "### 75.75% of the population in these two tiers is not rural.\n",
    "\n",
    "This is especially troubling considering that the UNC strategic plan does not make any mention of specifically looking at the rural portion of these two counties:\n",
    "\n",
    "\"*Rural: By fall 2021, increase enrollment\n",
    "of students from Tier 1 and Tier 2 counties by\n",
    "11% over fall 2016 levels (an average of 2% per\n",
    "year) to reduce the existing participation gap\n",
    "by at least half*\" - Page 9, UNC Strategic Plan https://www.northcarolina.edu/wp-content/uploads/reports-and-documents/strategic-plan/unc_strategic_plan.pdf"
   ]
  },
  {
   "cell_type": "code",
   "execution_count": 144,
   "metadata": {},
   "outputs": [],
   "source": [
    "#kind_of_rural"
   ]
  },
  {
   "cell_type": "markdown",
   "metadata": {},
   "source": [
    "## Plotting tiers on a map\n",
    "\n",
    "Let's shift gears quickly and make a map of tier designations."
   ]
  },
  {
   "cell_type": "code",
   "execution_count": null,
   "metadata": {},
   "outputs": [],
   "source": [
    "#! conda install geopandas"
   ]
  },
  {
   "cell_type": "code",
   "execution_count": 60,
   "metadata": {},
   "outputs": [
    {
     "ename": "ModuleNotFoundError",
     "evalue": "No module named 'geopandas'",
     "output_type": "error",
     "traceback": [
      "\u001b[1;31m---------------------------------------------------------------------------\u001b[0m",
      "\u001b[1;31mModuleNotFoundError\u001b[0m                       Traceback (most recent call last)",
      "\u001b[1;32m<ipython-input-60-d81050c5c96a>\u001b[0m in \u001b[0;36m<module>\u001b[1;34m\u001b[0m\n\u001b[0;32m      1\u001b[0m \u001b[1;31m#Directions from https://plotly.com/python/county-choropleth/\u001b[0m\u001b[1;33m\u001b[0m\u001b[1;33m\u001b[0m\u001b[1;33m\u001b[0m\u001b[0m\n\u001b[0;32m      2\u001b[0m \u001b[1;32mimport\u001b[0m \u001b[0mplotly\u001b[0m\u001b[1;33m.\u001b[0m\u001b[0mfigure_factory\u001b[0m \u001b[1;32mas\u001b[0m \u001b[0mff\u001b[0m\u001b[1;33m\u001b[0m\u001b[1;33m\u001b[0m\u001b[0m\n\u001b[1;32m----> 3\u001b[1;33m \u001b[1;32mimport\u001b[0m \u001b[0mgeopandas\u001b[0m\u001b[1;33m\u001b[0m\u001b[1;33m\u001b[0m\u001b[0m\n\u001b[0m\u001b[0;32m      4\u001b[0m \u001b[0mmap_counties\u001b[0m\u001b[1;33m=\u001b[0m \u001b[0mpd\u001b[0m\u001b[1;33m.\u001b[0m\u001b[0mread_csv\u001b[0m\u001b[1;33m(\u001b[0m\u001b[1;34m'nc-commerce-tiers.csv'\u001b[0m\u001b[1;33m)\u001b[0m\u001b[1;33m\u001b[0m\u001b[1;33m\u001b[0m\u001b[0m\n\u001b[0;32m      5\u001b[0m \u001b[1;33m\u001b[0m\u001b[0m\n",
      "\u001b[1;31mModuleNotFoundError\u001b[0m: No module named 'geopandas'"
     ]
    }
   ],
   "source": [
    "#Directions from https://plotly.com/python/county-choropleth/\n",
    "import plotly.figure_factory as ff\n",
    "import geopandas\n",
    "map_counties= pd.read_csv('nc-commerce-tiers.csv')\n",
    "\n",
    "values = map_counties['County Distress Ranking Tier'].tolist()\n",
    "fips = map_counties['Combined FIPS'].tolist()\n",
    "\n",
    "colorscale = [\"#8dd3c7\", \"#ffffb3\", \"#bebada\", \"#fb8072\",\n",
    "              \"#80b1d3\", \"#fdb462\", \"#b3de69\", \"#fccde5\",\n",
    "              \"#d9d9d9\", \"#bc80bd\", \"#ccebc5\", \"#ffed6f\",\n",
    "              \"#8dd3c7\", \"#ffffb3\", \"#bebada\", \"#fb8072\",\n",
    "              \"#80b1d3\", \"#fdb462\", \"#b3de69\", \"#fccde5\",\n",
    "              \"#d9d9d9\", \"#bc80bd\", \"#ccebc5\", \"#ffed6f\",\n",
    "              \"#8dd3c7\", \"#ffffb3\", \"#bebada\", \"#fb8072\",\n",
    "              \"#80b1d3\", \"#fdb462\", \"#b3de69\", \"#fccde5\",\n",
    "              \"#d9d9d9\", \"#bc80bd\", \"#ccebc5\", \"#ffed6f\"]\n",
    "\n",
    "fig = ff.create_choropleth(\n",
    "    fips=fips, values=values,\n",
    "    colorscale=colorscale, round_legend_values=True,\n",
    "    simplify_county=0, simplify_state=0,\n",
    "    county_outline={'color': 'rgb(15, 15, 55)', 'width': 0.5},\n",
    "    state_outline={'width': 1},\n",
    "    legend_title='Tiers',\n",
    "    title='North Carolina'\n",
    ")\n",
    "\n",
    "fig.layout.template = None\n",
    "fig.show()"
   ]
  },
  {
   "cell_type": "code",
   "execution_count": null,
   "metadata": {},
   "outputs": [],
   "source": []
  }
 ],
 "metadata": {
  "kernelspec": {
   "display_name": "Python 3",
   "language": "python",
   "name": "python3"
  },
  "language_info": {
   "codemirror_mode": {
    "name": "ipython",
    "version": 3
   },
   "file_extension": ".py",
   "mimetype": "text/x-python",
   "name": "python",
   "nbconvert_exporter": "python",
   "pygments_lexer": "ipython3",
   "version": "3.7.6"
  }
 },
 "nbformat": 4,
 "nbformat_minor": 4
}
